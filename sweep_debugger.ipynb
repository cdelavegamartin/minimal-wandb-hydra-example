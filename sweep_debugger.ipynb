{
 "cells": [
  {
   "cell_type": "markdown",
   "metadata": {},
   "source": [
    "This is a notebook for debugging the sweeps produced with WandB and Hydra."
   ]
  },
  {
   "cell_type": "code",
   "execution_count": 1,
   "metadata": {},
   "outputs": [],
   "source": [
    "import os\n",
    "import sys\n",
    "import pathlib\n"
   ]
  },
  {
   "cell_type": "code",
   "execution_count": 9,
   "metadata": {},
   "outputs": [],
   "source": [
    "def get_num_wandbinit_in_log(fname: pathlib.Path) -> int:\n",
    "    with open(fname) as f:\n",
    "        lines = f.readlines()\n",
    "        # If the line contains with wandb.init called, print the line, and line number\n",
    "        num_wandbinit = 0\n",
    "        for nl, line in enumerate(lines):\n",
    "            if \"wandb.init called\" in line:\n",
    "                num_wandbinit += 1\n",
    "        return num_wandbinit\n",
    "\n",
    "\n",
    "def print_wandbinit_in_log(fname: pathlib.Path):\n",
    "    with open(fname) as f:\n",
    "        lines = f.readlines()\n",
    "        # If the line contains with wandb.init called, print the line, and line number\n",
    "\n",
    "        for nl, line in enumerate(lines):\n",
    "            if \"wandb.init\" in line:\n",
    "                print(f\"line number:{nl}\")\n",
    "                print(line)\n",
    "                print(lines[nl + 1])\n",
    "    return\n",
    "\n",
    "\n",
    "# Function to traverse all subdirectories and files, find the debug.log file, and print the number of wandb.init called in the file\n",
    "def find_broken_runs(path: pathlib.Path, print_broken: bool = False) -> dict:\n",
    "    #  convert to absolute path\n",
    "    path = pathlib.Path(path).resolve()\n",
    "    broken_runs = {}\n",
    "    for root, dirs, files in os.walk(path):\n",
    "        for file in files:\n",
    "            if file == \"debug.log\":\n",
    "                num_wandbinit = get_num_wandbinit_in_log(os.path.join(root, file))\n",
    "                if num_wandbinit > 1:\n",
    "                    broken_runs[os.path.join(root, file)] = num_wandbinit\n",
    "                    if print_broken:\n",
    "                        print(f\"file:{file}\")\n",
    "                        print(f\"root:{root}\")\n",
    "                        print(f\"num_wandbinit:{num_wandbinit}\")\n",
    "                        # print_wandbinit_in_log(os.path.join(root, file))\n",
    "                        print(\"\\n\")\n",
    "    return broken_runs\n",
    "\n",
    "\n",
    "def find_num_runs(path: pathlib.Path) -> int:\n",
    "    #  convert to absolute path\n",
    "    path = pathlib.Path(path).resolve()\n",
    "    num_runs = 0\n",
    "    for root, dirs, files in os.walk(path):\n",
    "        for file in files:\n",
    "            if file == \"debug.log\":\n",
    "                num_runs += 1\n",
    "    return num_runs\n"
   ]
  },
  {
   "cell_type": "code",
   "execution_count": 18,
   "metadata": {},
   "outputs": [],
   "source": [
    "fname = pathlib.Path(\n",
    "    \"../outputs/fnornn-test-seeds-40hz-serial/train-22steps/wavespeed_1.0-seed_2-lr_1e-10-steps_22/wandb/debug.log\"\n",
    ")\n",
    "dirname = \"/home/carlos/projects/minimal-wandb-hydra-example/wandb\"\n",
    "broken_runs = find_broken_runs(dirname)\n",
    "total_runs = find_num_runs(dirname)\n"
   ]
  },
  {
   "cell_type": "code",
   "execution_count": 19,
   "metadata": {},
   "outputs": [
    {
     "name": "stdout",
     "output_type": "stream",
     "text": [
      "broken_runs:0\n",
      "total_runs:25\n"
     ]
    }
   ],
   "source": [
    "print(f\"broken_runs:{len(broken_runs)}\")\n",
    "print(f\"total_runs:{total_runs}\")\n"
   ]
  },
  {
   "cell_type": "code",
   "execution_count": null,
   "metadata": {},
   "outputs": [],
   "source": []
  }
 ],
 "metadata": {
  "kernelspec": {
   "display_name": "physmodjax",
   "language": "python",
   "name": "python3"
  },
  "language_info": {
   "codemirror_mode": {
    "name": "ipython",
    "version": 3
   },
   "file_extension": ".py",
   "mimetype": "text/x-python",
   "name": "python",
   "nbconvert_exporter": "python",
   "pygments_lexer": "ipython3",
   "version": "3.9.18"
  }
 },
 "nbformat": 4,
 "nbformat_minor": 2
}
